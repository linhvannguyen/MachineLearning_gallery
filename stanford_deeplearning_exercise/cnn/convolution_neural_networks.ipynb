{
 "cells": [
  {
   "cell_type": "markdown",
   "metadata": {},
   "source": [
    "# Convolution Neural Networks"
   ]
  },
  {
   "cell_type": "markdown",
   "metadata": {},
   "source": [
    "## STEP 0: Initialization and Load Data\n",
    "\n",
    "Here we initialize some parameters used for the exercise.\n"
   ]
  },
  {
   "cell_type": "code",
   "execution_count": 1,
   "metadata": {
    "collapsed": true
   },
   "outputs": [],
   "source": [
    "imageDim = 28;        % image dimension\n",
    "\n",
    "filterDim = 8;        % filter dimension\n",
    "numFilters = 100;     % number of feature maps\n",
    "numImages = 60000;    % number of images\n",
    "poolDim = 3;          % dimension of pooling region\n",
    "\n",
    "% load MNIST training images\n",
    "addpath ../common/;\n",
    "images = loadMNISTImages('../common/train-images-idx3-ubyte');\n",
    "images = reshape(images,imageDim,imageDim,numImages);\n",
    "\n",
    "W = randn(filterDim,filterDim,numFilters);\n",
    "b = rand(numFilters);"
   ]
  },
  {
   "cell_type": "markdown",
   "metadata": {},
   "source": [
    "## STEP 1: Implement and test convolution\n",
    "\n",
    "In this step, you will implement the convolution and test it on a small part of the data set to ensure that you have implemented this step correctly."
   ]
  },
  {
   "cell_type": "markdown",
   "metadata": {},
   "source": [
    "### STEP 1a: Implement convolution\n",
    "Implement convolution in the function cnnConvolve in cnnConvolve.m\n",
    "\n",
    "Use only the first 8 images for testing\n"
   ]
  },
  {
   "cell_type": "code",
   "execution_count": 2,
   "metadata": {
    "collapsed": false
   },
   "outputs": [
    {
     "name": "stderr",
     "output_type": "stream",
     "text": [
      "Error: File: /home/nguyen/Documents/github/MachineLearning_gallery/stanford_deeplearning_exercise/cnn/cnnConvolve.m Line: 50 Column: 5\n",
      "\"filter\" previously appeared to be used as a function or command, conflicting with its use here as the name of a variable.\n",
      "A possible cause of this error is that you forgot to initialize the variable, or you have initialized it implicitly using load or eval.\n"
     ]
    }
   ],
   "source": [
    "convImages = images(:, :, 1:8); \n",
    "convolvedFeatures = cnnConvolve(filterDim, numFilters, convImages, W, b);"
   ]
  },
  {
   "cell_type": "markdown",
   "metadata": {},
   "source": [
    "### STEP 1b: Checking your convolution\n",
    "\n",
    "To ensure that you have convolved the features correctly, we have provided some code to compare the results of your convolution with activations from the sparse autoencoder"
   ]
  },
  {
   "cell_type": "code",
   "execution_count": null,
   "metadata": {
    "collapsed": true
   },
   "outputs": [],
   "source": [
    "% For 1000 random points\n",
    "for i = 1:1000   \n",
    "    filterNum = randi([1, numFilters]);\n",
    "    imageNum = randi([1, 8]);\n",
    "    imageRow = randi([1, imageDim - filterDim + 1]);\n",
    "    imageCol = randi([1, imageDim - filterDim + 1]);    \n",
    "   \n",
    "    patch = convImages(imageRow:imageRow + filterDim - 1, imageCol:imageCol + filterDim - 1, imageNum);\n",
    "\n",
    "    feature = sum(sum(patch.*W(:,:,filterNum)))+b(filterNum);\n",
    "    feature = 1./(1+exp(-feature));\n",
    "    \n",
    "    if abs(feature - convolvedFeatures(imageRow, imageCol,filterNum, imageNum)) > 1e-9\n",
    "        fprintf('Convolved feature does not match test feature\\n');\n",
    "        fprintf('Filter Number    : %d\\n', filterNum);\n",
    "        fprintf('Image Number      : %d\\n', imageNum);\n",
    "        fprintf('Image Row         : %d\\n', imageRow);\n",
    "        fprintf('Image Column      : %d\\n', imageCol);\n",
    "        fprintf('Convolved feature : %0.5f\\n', convolvedFeatures(imageRow, imageCol, filterNum, imageNum));\n",
    "        fprintf('Test feature : %0.5f\\n', feature);       \n",
    "        error('Convolved feature does not match test feature');\n",
    "    end \n",
    "end\n",
    "\n",
    "disp('Congratulations! Your convolution code passed the test.');"
   ]
  },
  {
   "cell_type": "markdown",
   "metadata": {},
   "source": [
    "## STEP 2: Implement and test pooling\n",
    "\n",
    "Implement pooling in the function cnnPool in cnnPool.m\n",
    "\n",
    "### STEP 2a: Implement pooling"
   ]
  },
  {
   "cell_type": "code",
   "execution_count": null,
   "metadata": {
    "collapsed": true
   },
   "outputs": [],
   "source": [
    "pooledFeatures = cnnPool(poolDim, convolvedFeatures);\n"
   ]
  },
  {
   "cell_type": "markdown",
   "metadata": {},
   "source": [
    "### STEP 2b: Checking your pooling\n",
    "To ensure that you have implemented pooling, we will use your pooling function to pool over a test matrix and check the results."
   ]
  },
  {
   "cell_type": "code",
   "execution_count": null,
   "metadata": {
    "collapsed": true
   },
   "outputs": [],
   "source": [
    "testMatrix = reshape(1:64, 8, 8);\n",
    "expectedMatrix = [mean(mean(testMatrix(1:4, 1:4))) mean(mean(testMatrix(1:4, 5:8))); ...\n",
    "                  mean(mean(testMatrix(5:8, 1:4))) mean(mean(testMatrix(5:8, 5:8))); ];\n",
    "            \n",
    "testMatrix = reshape(testMatrix, 8, 8, 1, 1);\n",
    "        \n",
    "pooledFeatures = squeeze(cnnPool(4, testMatrix));\n",
    "\n",
    "if ~isequal(pooledFeatures, expectedMatrix)\n",
    "    disp('Pooling incorrect');\n",
    "    disp('Expected');\n",
    "    disp(expectedMatrix);\n",
    "    disp('Got');\n",
    "    disp(pooledFeatures);\n",
    "else\n",
    "    disp('Congratulations! Your pooling code passed the test.');\n",
    "end"
   ]
  }
 ],
 "metadata": {
  "kernelspec": {
   "display_name": "Matlab",
   "language": "matlab",
   "name": "matlab_kernel"
  },
  "language_info": {
   "codemirror_mode": "Octave",
   "file_extension": ".m",
   "help_links": [
    {
     "text": "MetaKernel Magics",
     "url": "https://github.com/calysto/metakernel/blob/master/metakernel/magics/README.md"
    }
   ],
   "mimetype": "text/x-matlab",
   "name": "octave"
  }
 },
 "nbformat": 4,
 "nbformat_minor": 0
}

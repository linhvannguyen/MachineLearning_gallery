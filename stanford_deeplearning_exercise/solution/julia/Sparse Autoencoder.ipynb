{
 "metadata": {
  "language": "Julia",
  "name": ""
 },
 "nbformat": 3,
 "nbformat_minor": 0,
 "worksheets": [
  {
   "cells": [
    {
     "cell_type": "code",
     "collapsed": false,
     "input": [
      "using MAT"
     ],
     "language": "python",
     "metadata": {},
     "outputs": [],
     "prompt_number": 1
    },
    {
     "cell_type": "code",
     "collapsed": false,
     "input": [
      "function sample_images()\n",
      "  f = matopen(\"../sparseae_exercise/IMAGES.mat\")\n",
      "  image = read(f, \"IMAGES\")\n",
      "  patch_size = 8\n",
      "  num_patches = 2\n",
      "  patches = Array(Float64, patch_size, patch_size, num_patches)\n",
      "  for i = 1:num_patches\n",
      "    x = rand(1:512-patch_size)\n",
      "    y = rand(1:512-patch_size)\n",
      "    # sample = image[x:x+patch_size-1, y:y+patch_size-1, rand(1:10)]\n",
      "    for l = 0:7, m = 0:7\n",
      "      patches[l+1, m+1, i] = image[x+l, y+m, rand(1:10)]\n",
      "    end\n",
      "  end\n",
      "  normalizeData(patches)\n",
      "end "
     ],
     "language": "python",
     "metadata": {},
     "outputs": [
      {
       "metadata": {},
       "output_type": "pyout",
       "prompt_number": 60,
       "text": [
        "sample_images (generic function with 1 method)"
       ]
      }
     ],
     "prompt_number": 60
    },
    {
     "cell_type": "code",
     "collapsed": false,
     "input": [
      "patches = sample_images()"
     ],
     "language": "python",
     "metadata": {},
     "outputs": [
      {
       "metadata": {},
       "output_type": "pyout",
       "prompt_number": 61,
       "text": [
        "8x8x2 Array{Float64,3}:\n",
        "[:, :, 1] =\n",
        " 0.1       0.64002   0.898679  0.443855  \u2026  0.430605  0.607895  0.442508\n",
        " 0.172131  0.430186  0.490988  0.563933     0.159057  0.562942  0.798188\n",
        " 0.301845  0.238927  0.676085  0.261541     0.453653  0.519855  0.54999 \n",
        " 0.426099  0.406126  0.1       0.9          0.364155  0.672874  0.251305\n",
        " 0.52391   0.1       0.9       0.9          0.9       0.1       0.629107\n",
        " 0.9       0.535575  0.136674  0.492179  \u2026  0.773523  0.430053  0.59163 \n",
        " 0.9       0.632735  0.411855  0.490816     0.479717  0.52318   0.863888\n",
        " 0.437787  0.811882  0.408104  0.9          0.359548  0.9       0.543061\n",
        "\n",
        "[:, :, 2] =\n",
        " 0.338175  0.519304  0.572536  0.793611  \u2026  0.396902  0.9       0.346493\n",
        " 0.1       0.516689  0.695344  0.642205     0.522644  0.1       0.147014\n",
        " 0.9       0.1       0.630751  0.6593       0.537305  0.117189  0.186045\n",
        " 0.639957  0.386099  0.9       0.26201      0.53287   0.664122  0.46259 \n",
        " 0.626968  0.738167  0.433857  0.723733     0.786484  0.174933  0.227743\n",
        " 0.572197  0.403055  0.9       0.45451   \u2026  0.578839  0.1       0.575481\n",
        " 0.602731  0.41007   0.864551  0.9          0.727588  0.1       0.1     \n",
        " 0.456084  0.1       0.716043  0.771664     0.801828  0.343064  0.1     "
       ]
      }
     ],
     "prompt_number": 61
    },
    {
     "cell_type": "code",
     "collapsed": false,
     "input": [],
     "language": "python",
     "metadata": {},
     "outputs": [
      {
       "metadata": {},
       "output_type": "pyout",
       "prompt_number": 52,
       "text": [
        "8x8x2 Array{Float64,3}:\n",
        "[:, :, 1] =\n",
        "  0.184568   -0.0091922   0.288159   -0.0562711   \u2026  -0.212797    -0.166895  \n",
        "  0.475731   -0.34436     0.0857218   0.471466       -0.298413     0.283824  \n",
        "  0.0988243  -0.309486   -0.0686035  -0.728548       -0.104141     1.0264    \n",
        "  0.197684    0.096513   -0.0591418   0.00940535      0.0388513   -0.0141796 \n",
        "  0.359026   -0.0278175  -0.368722   -0.512715       -0.00473505   0.236927  \n",
        " -0.102172   -0.0275456  -0.056153   -0.0816734   \u2026  -0.289081     0.0359994 \n",
        " -0.204019   -0.110667   -0.754706    0.0917132       0.0839446   -0.00750099\n",
        "  0.100733    0.022625   -0.206657   -0.0482569       0.076385    -0.074957  \n",
        "\n",
        "[:, :, 2] =\n",
        "  0.00745504  -0.574391    0.0719238  \u2026  -0.027076   -0.159978   -0.134944 \n",
        "  0.290913     0.107703   -0.106164      -0.280501    0.0702758  -0.225684 \n",
        " -0.0161466    0.33781     0.0236157      0.0958615  -0.129523    0.0337032\n",
        "  0.133939     0.0217979  -0.0590521      0.369118    0.384619   -0.0634734\n",
        "  0.251343    -0.111433    0.4062        -0.313873   -0.0942827  -0.14662  \n",
        "  0.0728279   -0.206817   -0.237778   \u2026   0.185291    0.675736   -0.0195305\n",
        " -0.0884443   -0.0804214  -0.226863       0.0263034  -0.154368    0.0505958\n",
        "  0.0239301    0.65573    -0.133698      -0.0625753   0.22442    -0.367    "
       ]
      }
     ],
     "prompt_number": 52
    },
    {
     "cell_type": "code",
     "collapsed": false,
     "input": [
      "function normalize_data(patches)\n",
      "  patches -= mean(patches)\n",
      "  # Truncate to +/- 3 standard deviations and scale to [0.1, 0.9]\n",
      "  pstd = stdm(patches, 0)\n",
      "  patches = max(min(patches, pstd), -pstd) / pstd\n",
      "  patches = (patches + 1) * 0.4 + 0.1\n",
      "end  "
     ],
     "language": "python",
     "metadata": {},
     "outputs": [
      {
       "metadata": {},
       "output_type": "pyout",
       "prompt_number": 62,
       "text": [
        "normalize_data (generic function with 1 method)"
       ]
      }
     ],
     "prompt_number": 62
    },
    {
     "cell_type": "code",
     "collapsed": false,
     "input": [
      "function initialize_parameters(hidden_size, visible_size)\n",
      "  # Choose weights uniformly at random from [-r, r]\n",
      "  r = sqrt(6) / sqrt(hidden_size + visible_size + 1)\n",
      "  w1 = rand(hidden_size, visible_size) * 2 * r - r\n",
      "  w2 = rand(visible_size, hidden_size) * 2 * r - r\n",
      "  b1 = zeros(hidden_size, 1)\n",
      "  b2 = zeros(visible_size, 1)\n",
      "  (w1, w2, b1, b2)\n",
      "end"
     ],
     "language": "python",
     "metadata": {},
     "outputs": [
      {
       "metadata": {},
       "output_type": "pyout",
       "prompt_number": 68,
       "text": [
        "initialize_parameters (generic function with 1 method)"
       ]
      }
     ],
     "prompt_number": 68
    },
    {
     "cell_type": "code",
     "collapsed": false,
     "input": [
      "kl(r, rh) = sum(r .* log(r ./ rh) + (1-r) .* log( (1-r) ./ (1-rh)))"
     ],
     "language": "python",
     "metadata": {},
     "outputs": [
      {
       "metadata": {},
       "output_type": "pyout",
       "prompt_number": 77,
       "text": [
        "kl (generic function with 1 method)"
       ]
      }
     ],
     "prompt_number": 77
    },
    {
     "cell_type": "code",
     "collapsed": false,
     "input": [
      "kl_delta(r, rh) = -(r./rh) + (1-r) ./ (1-rh)"
     ],
     "language": "python",
     "metadata": {},
     "outputs": [
      {
       "metadata": {},
       "output_type": "pyout",
       "prompt_number": 84,
       "text": [
        "kl_delta (generic function with 1 method)"
       ]
      }
     ],
     "prompt_number": 84
    },
    {
     "cell_type": "code",
     "collapsed": false,
     "input": [
      "sigmoid(x) = 1./(1 .+ e.^(-x))"
     ],
     "language": "python",
     "metadata": {},
     "outputs": [
      {
       "metadata": {},
       "output_type": "pyout",
       "prompt_number": 78,
       "text": [
        "sigmoid (generic function with 1 method)"
       ]
      }
     ],
     "prompt_number": 78
    },
    {
     "cell_type": "code",
     "collapsed": false,
     "input": [
      "function sparse_autoencoder_cost(w1, w2, b1, b2, \n",
      "  visible_size, hidden_size, \n",
      "  lambda, sparsity_param, beta, data)\n",
      "\n",
      "  \n",
      "  cost = 0\n",
      "  w1_grad = zeros(size(w1))\n",
      "  w2_grad = zeros(size(w2))\n",
      "  b1_grad = zeros(size(b1))\n",
      "  b2_grad = zoers(size(b2))\n",
      "  \n",
      "  # size(data, 1) % 64                                                                                                                                        \n",
      "  # size(W1)   % 25 64                                                                                                                                        \n",
      "  # size(W2)   % 64 25                                                                                                                                        \n",
      "  # size(b1)   % 25  1                                                                                                                                        \n",
      "  # size(b2)   % 64  1  \n",
      "  \n",
      "  z2 = w1 * data .+ b1\n",
      "  a2 = sigmoid(z2) # 25 10000\n",
      "\n",
      "  rho_hat = sum(a2, 2) / m\n",
      "\n",
      "  z3 = w2 * a2 .+ b2\n",
      "  a3 = sigmoid(z3)\n",
      "  \n",
      "  diff = a3 - data\n",
      "  sparse_penalty = kl(sparsity_param, rho_hat)\n",
      "  J_simple = sum(diff.^2)\n",
      "  \n",
      "  reg = sum(w1.^2) + sum(w2.^2)\n",
      "  cost = J_simple + beta * sparse_penalty + lambda * reg / 2\n",
      "  \n",
      "  # Backprop\n",
      "  \n",
      "  # d stands for delta\n",
      "  \n",
      "  d3 = diff .* (a3 .* (1-a3))\n",
      "  \n",
      "  d2_simple = w2' * d3\n",
      "  d2_pen = kl_delta(sparsity_param, rho_hat)\n",
      "  \n",
      "  d2 = (d2_simple + beta .* d2_pend) .* a_2 .* (1-a_2) #not sure beta .* d2_pen will do the right thing\n",
      "  b1_grad = sum(d3, 2)/m\n",
      "  b2_grad = sum(d2, 2)/m\n",
      "  \n",
      "  w2_grad = d3 * a2'/m + lambda * w2\n",
      "  w1_grad = d2 * data'/m + lambda * w1\n",
      "  \n",
      "  (cost, w1_grad, w2_grad, b1_grad, b2_grad)\n",
      "end"
     ],
     "language": "python",
     "metadata": {},
     "outputs": [
      {
       "metadata": {},
       "output_type": "pyout",
       "prompt_number": 85,
       "text": [
        "sparse_autoencoder_cost (generic function with 1 method)"
       ]
      }
     ],
     "prompt_number": 85
    },
    {
     "cell_type": "code",
     "collapsed": false,
     "input": [
      "sum(sum(ones(4,4)))"
     ],
     "language": "python",
     "metadata": {},
     "outputs": [
      {
       "metadata": {},
       "output_type": "pyout",
       "prompt_number": 83,
       "text": [
        "16.0"
       ]
      }
     ],
     "prompt_number": 83
    },
    {
     "cell_type": "code",
     "collapsed": false,
     "input": [],
     "language": "python",
     "metadata": {},
     "outputs": []
    }
   ],
   "metadata": {}
  }
 ]
}
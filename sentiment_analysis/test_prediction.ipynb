{
 "cells": [
  {
   "cell_type": "markdown",
   "metadata": {},
   "source": [
    "by Linh Van NGUYEN\n",
    "\n",
    "Date: 16/5/2016\n",
    "\n",
    "### Requirements:\n",
    "    * sklearn\n",
    "    * pandas\n",
    "    * xgboost\n",
    "    * BeautifulSoup\n",
    "    * nltk\n",
    "To install the required package, run this command in the terminal:\n",
    "    \n",
    "    sudo pip install -r requirements.txt\n",
    "\n",
    "Also two following files should be in the same directory:\n",
    "    * utils.py - some useful functions\n",
    "        read_textfile(filename, separate): read text from file with given separator\n",
    "        score_model(model,X,t,cv,scoring): return score of a classifier using cross-validation\n",
    "        text_to_wordlist(text, remove_stopwords=False): clean and return wordlist from given tweets\n",
    "    * predict_sentiments.py - function to predict sentiments from given tweets\n",
    "        predict_singlemodel(tweetsTrain, labelsTrain, tweetsTest): using the best single model \n",
    "        predict_singlemodel(tweetsTrain, labelsTrain, tweetsTest): ensemble all models\n",
    "        \n",
    "Run the test by commenting the virtual spliting block and give input testing file name"
   ]
  },
  {
   "cell_type": "code",
   "execution_count": 1,
   "metadata": {
    "collapsed": false
   },
   "outputs": [
    {
     "name": "stderr",
     "output_type": "stream",
     "text": [
      "/home/nguyen/anaconda/lib/python2.7/site-packages/matplotlib/font_manager.py:273: UserWarning: Matplotlib is building the font cache using fc-list. This may take a moment.\n",
      "  warnings.warn('Matplotlib is building the font cache using fc-list. This may take a moment.')\n"
     ]
    }
   ],
   "source": [
    "%matplotlib inline  \n",
    "import warnings\n",
    "warnings.filterwarnings(\"ignore\")\n",
    "\n",
    "import numpy as np\n",
    "import pandas as pd\n",
    "from sklearn import cross_validation\n",
    "from sklearn.metrics import classification_report\n",
    "\n",
    "import utils as utils\n",
    "import predict_sentiments as ps"
   ]
  },
  {
   "cell_type": "markdown",
   "metadata": {},
   "source": [
    "## Part 1: Testing data\n",
    "You should input the testing data *xxxx.txt* (file of same format as training data)"
   ]
  },
  {
   "cell_type": "code",
   "execution_count": 2,
   "metadata": {
    "collapsed": false
   },
   "outputs": [
    {
     "name": "stdout",
     "output_type": "stream",
     "text": [
      "\n",
      "\n",
      "Test file at \" test-tweets.txt \", containing 1044 tweets \n",
      "\n",
      "\n"
     ]
    }
   ],
   "source": [
    "fileTrain = 'train-tweets.txt'\n",
    "fileTest = 'test-tweets.txt'\n",
    "\n",
    "dfTrain = utils.read_textfile(fileTrain,',')\n",
    "tweetsTrain = dfTrain.tweet.values\n",
    "nTrain = len(tweetsTrain)\n",
    "\n",
    "dfTest = utils.read_textfile(fileTest,',')\n",
    "tweetsTest = dfTest.tweet.values\n",
    "nTest = len(tweetsTest)\n",
    "\n",
    "sentimentsAll = np.concatenate((dfTrain.sentiment,dfTest.sentiment),axis=0) # to make sure the order when factorize\n",
    "labelsAll = pd.factorize(sentimentsAll)[0]\n",
    "sentiments = pd.factorize(dfTrain.sentiment)[1]\n",
    "labelsTrain = labelsAll[:nTrain]\n",
    "labelsTest = labelsAll[nTrain:]\n",
    "\n",
    "print (\"\\n\\nTest file at \\\" %s \\\", containing %d tweets \\n\\n\" % (fileTest, nTest))"
   ]
  },
  {
   "cell_type": "code",
   "execution_count": 3,
   "metadata": {
    "collapsed": false
   },
   "outputs": [
    {
     "name": "stdout",
     "output_type": "stream",
     "text": [
      "==============================================\n",
      "Report of prediction by the best single models\n",
      "==============================================\n",
      "Step 1: Cleaning text \n",
      "\n",
      "Step 2: Extracting features \n",
      "\n",
      "Step 3: Training classifiers \n",
      "\n",
      "stacked features ....\n",
      "             precision    recall  f1-score   support\n",
      "\n",
      "          0       0.59      0.68      0.63       335\n",
      "          1       0.25      0.51      0.34        96\n",
      "          2       0.82      0.62      0.71       613\n",
      "\n",
      "avg / total       0.69      0.63      0.65      1044\n",
      "\n",
      "==============================================\n",
      "==============================================\n",
      "Report of prediction by the best single models\n",
      "==============================================\n",
      "Step 1: Cleaning text \n",
      "\n",
      "Step 2: Extracting features \n",
      "\n",
      "Step 3: Training classifiers \n",
      "\n",
      "For vectorized features ....\n",
      "counting features ....\n",
      "stacked features ....\n",
      "and significant features ....\n",
      "done! \n",
      "\n",
      "Final predictions and ensemble \n",
      "\n",
      "             precision    recall  f1-score   support\n",
      "\n",
      "          0       0.57      0.74      0.65       296\n",
      "          1       0.25      0.62      0.35        78\n",
      "          2       0.89      0.62      0.73       670\n",
      "\n",
      "avg / total       0.75      0.65      0.68      1044\n",
      "\n",
      "==============================================\n"
     ]
    }
   ],
   "source": [
    "# Single model\n",
    "print(\"==============================================\")\n",
    "print(\"Report of prediction by the best single models\")\n",
    "print(\"==============================================\")\n",
    "labelsPred = ps.predict_singlemodel(tweetsTrain, labelsTrain, tweetsTest)\n",
    "print(classification_report(labelsPred, labelsTest))\n",
    "print(\"==============================================\")\n",
    "\n",
    "\n",
    "# Ensemble model\n",
    "print(\"==============================================\")\n",
    "print(\"Report of prediction by the best single models\")\n",
    "print(\"==============================================\")\n",
    "labelsPred = ps.predict_ensemblemodels(tweetsTrain, labelsTrain, tweetsTest)\n",
    "print(classification_report(labelsPred, labelsTest))\n",
    "print(\"==============================================\")"
   ]
  },
  {
   "cell_type": "markdown",
   "metadata": {},
   "source": [
    "## Part 2: Virtual testing data by spliting from training data\n",
    "(comment this block when real testing data is given)"
   ]
  },
  {
   "cell_type": "code",
   "execution_count": 4,
   "metadata": {
    "collapsed": false
   },
   "outputs": [],
   "source": [
    "fileTrain = 'train-tweets.txt'\n",
    "dfTrain = utils.read_textfile(fileTrain,',')\n",
    "tweets = dfTrain.tweet.values\n",
    "labels = pd.factorize(dfTrain.sentiment)[0]\n",
    "sentiments = pd.factorize(dfTrain.sentiment)[1]\n",
    "\n",
    "tweetsTrain, tweetsTest, labelsTrain, labelsTest = cross_validation.train_test_split(tweets, labels, \n",
    "                                                                      train_size=0.85, random_state=1234)"
   ]
  },
  {
   "cell_type": "markdown",
   "metadata": {},
   "source": [
    "### By a single model (SVM with features selection)"
   ]
  },
  {
   "cell_type": "code",
   "execution_count": 5,
   "metadata": {
    "collapsed": false
   },
   "outputs": [
    {
     "name": "stdout",
     "output_type": "stream",
     "text": [
      "Step 1: Cleaning text \n",
      "\n",
      "Step 2: Extracting features \n",
      "\n",
      "Step 3: Training classifiers \n",
      "\n",
      "stacked features ....\n",
      "             precision    recall  f1-score   support\n",
      "\n",
      "          0       0.62      0.74      0.68       299\n",
      "          1       0.24      0.54      0.33        69\n",
      "          2       0.84      0.65      0.73       621\n",
      "\n",
      "avg / total       0.73      0.67      0.69       989\n",
      "\n"
     ]
    }
   ],
   "source": [
    "labelsPred = ps.predict_singlemodel(tweetsTrain, labelsTrain, tweetsTest)\n",
    "print(classification_report(labelsPred, labelsTest))"
   ]
  },
  {
   "cell_type": "markdown",
   "metadata": {},
   "source": [
    "### By ensemble model"
   ]
  },
  {
   "cell_type": "code",
   "execution_count": 6,
   "metadata": {
    "collapsed": false
   },
   "outputs": [
    {
     "name": "stdout",
     "output_type": "stream",
     "text": [
      "Step 1: Cleaning text \n",
      "\n",
      "Step 2: Extracting features \n",
      "\n",
      "Step 3: Training classifiers \n",
      "\n",
      "For vectorized features ....\n",
      "counting features ....\n",
      "stacked features ....\n",
      "and significant features ....\n",
      "done! \n",
      "\n",
      "Final predictions and ensemble \n",
      "\n",
      "             precision    recall  f1-score   support\n",
      "\n",
      "          0       0.60      0.75      0.67       280\n",
      "          1       0.24      0.64      0.34        58\n",
      "          2       0.88      0.65      0.74       651\n",
      "\n",
      "avg / total       0.76      0.68      0.70       989\n",
      "\n"
     ]
    }
   ],
   "source": [
    "labelsPred = ps.predict_ensemblemodels(tweetsTrain, labelsTrain, tweetsTest)\n",
    "print(classification_report(labelsPred, labelsTest))"
   ]
  }
 ],
 "metadata": {
  "kernelspec": {
   "display_name": "Python 2",
   "language": "python",
   "name": "python2"
  },
  "language_info": {
   "codemirror_mode": {
    "name": "ipython",
    "version": 2
   },
   "file_extension": ".py",
   "mimetype": "text/x-python",
   "name": "python",
   "nbconvert_exporter": "python",
   "pygments_lexer": "ipython2",
   "version": "2.7.11"
  }
 },
 "nbformat": 4,
 "nbformat_minor": 0
}

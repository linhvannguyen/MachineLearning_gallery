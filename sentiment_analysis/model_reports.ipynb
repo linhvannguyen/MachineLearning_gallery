{
 "cells": [
  {
   "cell_type": "markdown",
   "metadata": {},
   "source": [
    "by Linh Van NGUYEN\n",
    "\n",
    "Date: 16/5/2016\n",
    "\n",
    "### Requirements:\n",
    "    * sklearn\n",
    "    * pandas\n",
    "    * xgboost\n",
    "    * BeautifulSoup\n",
    "    * nltk\n",
    "To install the required package, run this command in the terminal:\n",
    "    \n",
    "    sudo pip install -r requirements.txt\n",
    "\n",
    "Also two following files should be in the same directory:\n",
    "    * utils.py - some useful functions\n",
    "        read_textfile(filename, separate): read text from file with given separator\n",
    "        score_model(model,X,t,cv,scoring): return score of a classifier using cross-validation\n",
    "        text_to_wordlist(text, remove_stopwords=False): clean and return wordlist from given tweets\n",
    "    * predict_sentiments.py - function to predict sentiments from given tweets\n",
    "        predict_singlemodel(tweetsTrain, labelsTrain, tweetsTest): using the best single model \n",
    "        predict_singlemodel(tweetsTrain, labelsTrain, tweetsTest): ensemble all models\n"
   ]
  },
  {
   "cell_type": "code",
   "execution_count": 1,
   "metadata": {
    "collapsed": false
   },
   "outputs": [
    {
     "name": "stderr",
     "output_type": "stream",
     "text": [
      "/home/nguyen/anaconda/lib/python2.7/site-packages/matplotlib/font_manager.py:273: UserWarning: Matplotlib is building the font cache using fc-list. This may take a moment.\n",
      "  warnings.warn('Matplotlib is building the font cache using fc-list. This may take a moment.')\n"
     ]
    }
   ],
   "source": [
    "%matplotlib inline  \n",
    "import warnings\n",
    "warnings.filterwarnings(\"ignore\")\n",
    "\n",
    "import matplotlib.pyplot as plt\n",
    "import string\n",
    "import numpy as np\n",
    "import pandas as pd\n",
    "import scipy.sparse\n",
    "\n",
    "import utils as utils\n",
    "\n",
    "from sklearn.metrics import classification_report\n",
    "from sklearn.feature_extraction.text import CountVectorizer, TfidfVectorizer\n",
    "from sklearn.ensemble import RandomForestClassifier, ExtraTreesClassifier, AdaBoostClassifier\n",
    "from sklearn import svm, cross_validation\n",
    "from sklearn.linear_model import LogisticRegression, SGDClassifier\n",
    "from sklearn.naive_bayes import MultinomialNB\n",
    "from sklearn.feature_selection import SelectFromModel\n",
    "\n",
    "import xgboost as xgb"
   ]
  },
  {
   "cell_type": "markdown",
   "metadata": {},
   "source": [
    "# Part 1: Data exploration"
   ]
  },
  {
   "cell_type": "markdown",
   "metadata": {},
   "source": [
    "### First look at the data\n",
    "To start, it is important to look at the data: the fields, size, data type ...\n",
    "The data given is 6588 tweets of different subjects, classified into 3 categories of sentiments: *positive*, *neural* and *negative*. The problem is to learn from these training samples and propose models that can predict a given tweets to see the sentiment of the person who posted it. \n",
    "\n",
    "Data is given in text file. It is more convenient to work with panda dataframe sometime. Sentiments are also converted to 0, 1, 2 for positive, neutral and negative respectively."
   ]
  },
  {
   "cell_type": "code",
   "execution_count": 2,
   "metadata": {
    "collapsed": false
   },
   "outputs": [],
   "source": [
    "df = utils.read_textfile('train-tweets.txt',',')\n",
    "tweets = df.tweet.values\n",
    "labels = pd.factorize(df.sentiment)[0]\n",
    "sentiments = pd.factorize(df.sentiment)[1]"
   ]
  },
  {
   "cell_type": "code",
   "execution_count": 3,
   "metadata": {
    "collapsed": false
   },
   "outputs": [
    {
     "name": "stdout",
     "output_type": "stream",
     "text": [
      "('Total number of tweets:', 6588)\n"
     ]
    },
    {
     "data": {
      "text/html": [
       "<div>\n",
       "<table border=\"1\" class=\"dataframe\">\n",
       "  <thead>\n",
       "    <tr style=\"text-align: right;\">\n",
       "      <th></th>\n",
       "      <th>sentiment</th>\n",
       "      <th>tweet</th>\n",
       "    </tr>\n",
       "  </thead>\n",
       "  <tbody>\n",
       "    <tr>\n",
       "      <th>0</th>\n",
       "      <td>positive</td>\n",
       "      <td>Gas by my house hit $3.39!!!! I'm going to Ch...</td>\n",
       "    </tr>\n",
       "    <tr>\n",
       "      <th>1</th>\n",
       "      <td>negative</td>\n",
       "      <td>Theo Walcott is still shit, watch Rafa and Jo...</td>\n",
       "    </tr>\n",
       "    <tr>\n",
       "      <th>2</th>\n",
       "      <td>negative</td>\n",
       "      <td>its not that I'm a GSP fan, i just hate Nick ...</td>\n",
       "    </tr>\n",
       "    <tr>\n",
       "      <th>3</th>\n",
       "      <td>negative</td>\n",
       "      <td>Iranian general says Israel's Iron Dome can't...</td>\n",
       "    </tr>\n",
       "    <tr>\n",
       "      <th>4</th>\n",
       "      <td>positive</td>\n",
       "      <td>with J Davlar 11th. Main rivals are team Pola...</td>\n",
       "    </tr>\n",
       "  </tbody>\n",
       "</table>\n",
       "</div>"
      ],
      "text/plain": [
       "  sentiment                                              tweet\n",
       "0  positive   Gas by my house hit $3.39!!!! I'm going to Ch...\n",
       "1  negative   Theo Walcott is still shit, watch Rafa and Jo...\n",
       "2  negative   its not that I'm a GSP fan, i just hate Nick ...\n",
       "3  negative   Iranian general says Israel's Iron Dome can't...\n",
       "4  positive   with J Davlar 11th. Main rivals are team Pola..."
      ]
     },
     "execution_count": 3,
     "metadata": {},
     "output_type": "execute_result"
    }
   ],
   "source": [
    "print('Total number of tweets:',len(tweets))\n",
    "df.head()"
   ]
  },
  {
   "cell_type": "markdown",
   "metadata": {},
   "source": [
    "### Clean text and extract words\n",
    "The original tweets are cleaned to make everything lower case, remove non-letter characters, and remove links. After the cleaning, the function returns a list of words."
   ]
  },
  {
   "cell_type": "code",
   "execution_count": 4,
   "metadata": {
    "collapsed": false
   },
   "outputs": [
    {
     "name": "stdout",
     "output_type": "stream",
     "text": [
      "Sample tweet: Most common nights to order pizza: NYE, Jan 1, day before Thanksgiving, Super Bowl Sunday, Halloween. http://p-bu.mp/msp- \n",
      "\n",
      "Cleaned tweet:common nights order pizza nye jan day thanksgiving super bowl sunday halloween\n"
     ]
    }
   ],
   "source": [
    "print('Sample tweet:%s' % (tweets[100]))\n",
    "print('Cleaned tweet:%s' % (' '.join(utils.text_to_wordlist(tweets[100], True))))"
   ]
  },
  {
   "cell_type": "markdown",
   "metadata": {},
   "source": [
    "### Extracting features\n",
    "To build machine learning models for natural language, it is essential to convert text into numeric features. The most common way is to use *Bag-of-word*, which creates a huge sparse matrix of all possible words in the text, then counting the number of each appearance. Another way is *Term-frequency*, which is to normalized version *Bag-of-word*. The *Term Frequency times Inverse Document Frequency* takes into account the words appears many times, which in fact less informative and therefore should take less weights. Further information can be found here:\n",
    "http://scikit-learn.org/stable/tutorial/text_analytics/working_with_text_data.html\n",
    "\n",
    "Other vectorization such as *Word2Vec* can be studied as well.\n",
    "\n",
    "In this code, I investigated 3 different ways of vectorization: *Bag-of-word*, *Term Frequency times Inverse Document Frequency*, and stacking version of these two"
   ]
  },
  {
   "cell_type": "code",
   "execution_count": 5,
   "metadata": {
    "collapsed": false
   },
   "outputs": [
    {
     "name": "stdout",
     "output_type": "stream",
     "text": [
      "[[1 1 1 1 0]\n",
      " [1 1 1 0 1]]\n",
      "[[ 0.5  0.5  0.5  0.5  0. ]\n",
      " [ 0.5  0.5  0.5  0.   0.5]]\n"
     ]
    }
   ],
   "source": [
    "print CountVectorizer().fit_transform([\"Hello Pierre, I am Linh\", \"Hello Linh, I am Sylvian\"]).A\n",
    "print TfidfVectorizer(use_idf=False).fit_transform([\"Hello Pierre, I am Linh\", \"Hello Linh, I am Sylvian\"]).A"
   ]
  },
  {
   "cell_type": "code",
   "execution_count": 6,
   "metadata": {
    "collapsed": false
   },
   "outputs": [
    {
     "name": "stdout",
     "output_type": "stream",
     "text": [
      "Top 10 most frequent words,which is less informative:\n",
      "1769 and\n",
      "1333 at\n",
      "1569 for\n",
      "2093 in\n",
      "1273 is\n",
      "1664 of\n",
      "2041 on\n",
      "5736 the\n",
      "3030 to\n",
      "1149 with\n"
     ]
    }
   ],
   "source": [
    "# join all tweets into one text\n",
    "texts = []\n",
    "for tweet in tweets:\n",
    "    texts.append(\" \".join(utils.text_to_wordlist(tweet, False)))\n",
    "    \n",
    "# Vectorizing\n",
    "maxFeatures = 10\n",
    "vectorizer = CountVectorizer(\n",
    "    analyzer = 'word',\n",
    "    tokenizer = None,\n",
    "    lowercase = True,\n",
    "    stop_words = None,\n",
    "    max_features = maxFeatures\n",
    ")\n",
    "\n",
    "sampleFeatures = vectorizer.fit_transform(texts).toarray()\n",
    "\n",
    "dist = np.sum(sampleFeatures, axis=0)\n",
    "vocab = vectorizer.get_feature_names()\n",
    "\n",
    "print \"Top 10 most frequent words,which is less informative:\"\n",
    "for tag, count in zip(vocab, dist):\n",
    "    print count, tag"
   ]
  },
  {
   "cell_type": "code",
   "execution_count": 7,
   "metadata": {
    "collapsed": false
   },
   "outputs": [
    {
     "name": "stdout",
     "output_type": "stream",
     "text": [
      "[[ 0.          0.70336456  0.         ...,  0.          0.          0.        ]\n",
      " [ 0.          0.          0.         ...,  0.          0.          0.        ]\n",
      " [ 0.          0.          0.56616306 ...,  0.          0.          0.        ]\n",
      " ..., \n",
      " [ 0.          0.          0.         ...,  0.          0.          1.        ]\n",
      " [ 0.          0.          0.         ...,  0.          0.          1.        ]\n",
      " [ 0.          0.          0.         ...,  0.          0.          0.        ]]\n"
     ]
    }
   ],
   "source": [
    "# Vectorizing\n",
    "maxFeatures = 10\n",
    "tfv = TfidfVectorizer(min_df=3,  max_features=maxFeatures, \n",
    "        strip_accents='unicode', analyzer='word',token_pattern=r'\\w{1,}',\n",
    "        ngram_range=(1, 2), use_idf=1,smooth_idf=1,sublinear_tf=1,\n",
    "        stop_words = 'english')\n",
    "sampleFeatures = tfv.fit_transform(texts).toarray()\n",
    "print sampleFeatures"
   ]
  },
  {
   "cell_type": "markdown",
   "metadata": {},
   "source": [
    "# Part 2: Various classifiers\n",
    "Here I investigate the standard classifiers, from naive Bayes, logistic classification, linear SVM to various ensembled version of decision tree such as Random Forest, Extra Tree, ADA boost and very new (and powerful) extreme gradient boosting from *xgboost* package\n",
    "\n",
    "Model selection and parameter optimization are done using standard k-fold cross validation (stratified version, which equally split the labels) for all three cases of vectorization:\n",
    "    \n",
    "    *cross_validataion_CountVectorizer.py: \"bag-of-word\"\n",
    "    *cross_validataion_TfidfVectorizer.py: \"Term Frequency times Inverse Document Frequency\"\n",
    "    *cross_validataion_CountTfidfVectorizer.py: using joined (stacked) features from the above two\n",
    "\n",
    "Accuracy of each classifiers are reported for 3 different cases averaging from 10 folds of cross validation"
   ]
  },
  {
   "cell_type": "markdown",
   "metadata": {},
   "source": [
    "### 1. Bag-of-word: feature vectorized by counting"
   ]
  },
  {
   "cell_type": "code",
   "execution_count": 8,
   "metadata": {
    "collapsed": false
   },
   "outputs": [],
   "source": [
    "maxFeatures = 2000\n",
    "vectorizer = CountVectorizer(\n",
    "    analyzer = 'word',\n",
    "    tokenizer = None,\n",
    "    lowercase = True,\n",
    "    stop_words = None,\n",
    "    max_features = maxFeatures\n",
    ")\n",
    "      \n",
    "featuresCountVectorized = vectorizer.fit_transform(texts)    "
   ]
  },
  {
   "cell_type": "code",
   "execution_count": 9,
   "metadata": {
    "collapsed": false,
    "scrolled": true
   },
   "outputs": [
    {
     "name": "stdout",
     "output_type": "stream",
     "text": [
      "Accuracy ( LR): 0.666819\n",
      "Accuracy ( NB): 0.634183\n",
      "Accuracy (SVM): 0.669393\n",
      "Accuracy ( RF): 0.668183\n",
      "Accuracy (EXT): 0.678805\n",
      "Accuracy (ADA): 0.667264\n",
      "Accuracy (XGB): 0.684417\n"
     ]
    }
   ],
   "source": [
    "skfCV = cross_validation.StratifiedKFold(labels, n_folds=10, shuffle=True, random_state=None) # split target equally\n",
    "\n",
    "clfLR = LogisticRegression(penalty='l2', dual=True, tol=0.0001, C=1, fit_intercept=True, \n",
    "                           intercept_scaling=1.0, class_weight=None, random_state=None)\n",
    "clfNB = MultinomialNB()\n",
    "clfSGD = SGDClassifier(loss='hinge', penalty='l2', alpha = 3*1e-3, n_iter=5, random_state=42)\n",
    "clfRF = RandomForestClassifier(n_estimators=250)\n",
    "clfEXT = ExtraTreesClassifier(n_estimators=300)\n",
    "clfADA = AdaBoostClassifier(n_estimators=100, learning_rate = 0.75)\n",
    "clfXGB = xgb.XGBClassifier(objective= 'logistic', nthread=3, silent = 1, seed=8,\n",
    "                           n_estimators = 400, max_depth = 6, learning_rate = 0.075, \n",
    "                           subsample = 0.9, colsample_bytree = 1.0)\n",
    "\n",
    "print(\"Accuracy ( LR): %f\" % (np.mean(utils.score_model(clfLR ,featuresCountVectorized,labels, \n",
    "                                                        cv = skfCV, scoring = \"accuracy\"))))\n",
    "print(\"Accuracy ( NB): %f\" % ( np.mean(utils.score_model(clfNB ,featuresCountVectorized,labels, \n",
    "                                                         cv = skfCV,scoring = \"accuracy\"))))\n",
    "print(\"Accuracy (SVM): %f\" % ( np.mean(utils.score_model(clfSGD,featuresCountVectorized,labels, \n",
    "                                                         cv = skfCV,scoring = \"accuracy\"))))\n",
    "print(\"Accuracy ( RF): %f\" % ( np.mean(utils.score_model(clfRF ,featuresCountVectorized,labels, \n",
    "                                                         cv = skfCV,scoring = \"accuracy\"))))\n",
    "print(\"Accuracy (EXT): %f\" % ( np.mean(utils.score_model(clfEXT,featuresCountVectorized,labels, \n",
    "                                                         cv = skfCV,scoring = \"accuracy\"))))\n",
    "print(\"Accuracy (ADA): %f\" % ( np.mean(utils.score_model(clfADA,featuresCountVectorized,labels, \n",
    "                                                         cv = skfCV,scoring = \"accuracy\"))))\n",
    "print(\"Accuracy (XGB): %f\" % ( np.mean(utils.score_model(clfXGB,featuresCountVectorized,labels, \n",
    "                                                         cv = skfCV,scoring = \"accuracy\"))))"
   ]
  },
  {
   "cell_type": "markdown",
   "metadata": {},
   "source": [
    "### 2. Term Frequency times Inverse Document Frequency"
   ]
  },
  {
   "cell_type": "code",
   "execution_count": 10,
   "metadata": {
    "collapsed": false
   },
   "outputs": [],
   "source": [
    "maxFeatures = 2000\n",
    "tfv = TfidfVectorizer(min_df=3,  max_features=maxFeatures, \n",
    "        strip_accents='unicode', analyzer='word',token_pattern=r'\\w{1,}',\n",
    "        ngram_range=(1, 2), use_idf=1,smooth_idf=1,sublinear_tf=1,\n",
    "        stop_words = 'english')\n",
    "featuresVectorized = tfv.fit_transform(texts)"
   ]
  },
  {
   "cell_type": "code",
   "execution_count": 11,
   "metadata": {
    "collapsed": false
   },
   "outputs": [
    {
     "name": "stdout",
     "output_type": "stream",
     "text": [
      "Accuracy ( LR): 0.671982\n",
      "Accuracy ( NB): 0.639040\n",
      "Accuracy (SVM): 0.675166\n",
      "Accuracy ( RF): 0.673037\n",
      "Accuracy (EXT): 0.675926\n",
      "Accuracy (ADA): 0.667582\n",
      "Accuracy (XGB): 0.680325\n"
     ]
    }
   ],
   "source": [
    "skfCV = cross_validation.StratifiedKFold(labels, n_folds=10, shuffle=True, random_state=None) # split target equally\n",
    "\n",
    "clfLR = LogisticRegression(penalty='l2', dual=True, tol=0.0001, C=1, fit_intercept=True, \n",
    "                           intercept_scaling=1.0, class_weight=None, random_state=None)\n",
    "clfNB = MultinomialNB()\n",
    "clfSGD = SGDClassifier(loss='hinge', penalty='l2', alpha = 3*1e-4, n_iter=5, random_state=42)\n",
    "clfRF = RandomForestClassifier(n_estimators=250)\n",
    "clfEXT = ExtraTreesClassifier(n_estimators=300)\n",
    "clfADA = AdaBoostClassifier(n_estimators=100, learning_rate = 0.75)\n",
    "clfXGB = xgb.XGBClassifier(objective= 'logistic', nthread=3, silent = 1, seed=8,\n",
    "                           n_estimators = 400, max_depth = 6, learning_rate = 0.075, \n",
    "                           subsample = 0.9, colsample_bytree = 1.0)\n",
    "\n",
    "print(\"Accuracy ( LR): %f\" % (np.mean(utils.score_model(clfLR ,featuresVectorized,labels, \n",
    "                                                        cv = skfCV, scoring = \"accuracy\"))))\n",
    "print(\"Accuracy ( NB): %f\" % ( np.mean(utils.score_model(clfNB,featuresVectorized,labels, \n",
    "                                                         cv = skfCV,scoring = \"accuracy\"))))\n",
    "print(\"Accuracy (SVM): %f\" % ( np.mean(utils.score_model(clfSGD,featuresVectorized,labels, \n",
    "                                                         cv = skfCV,scoring = \"accuracy\"))))\n",
    "print(\"Accuracy ( RF): %f\" % ( np.mean(utils.score_model(clfRF,featuresVectorized,labels, \n",
    "                                                         cv = skfCV,scoring = \"accuracy\"))))\n",
    "print(\"Accuracy (EXT): %f\" % ( np.mean(utils.score_model(clfEXT,featuresVectorized,labels, \n",
    "                                                         cv = skfCV,scoring = \"accuracy\"))))\n",
    "print(\"Accuracy (ADA): %f\" % ( np.mean(utils.score_model(clfADA,featuresVectorized,labels, \n",
    "                                                         cv = skfCV,scoring = \"accuracy\"))))\n",
    "print(\"Accuracy (XGB): %f\" % ( np.mean(utils.score_model(clfXGB,featuresVectorized,labels, \n",
    "                                                         cv = skfCV,scoring = \"accuracy\"))))"
   ]
  },
  {
   "cell_type": "markdown",
   "metadata": {},
   "source": [
    "#### 3. Joined features"
   ]
  },
  {
   "cell_type": "code",
   "execution_count": 12,
   "metadata": {
    "collapsed": false
   },
   "outputs": [
    {
     "name": "stdout",
     "output_type": "stream",
     "text": [
      "Accuracy ( LR): 0.665611\n",
      "Accuracy ( NB): 0.632985\n",
      "Accuracy (SVM): 0.665611\n",
      "Accuracy ( RF): 0.680329\n",
      "Accuracy (EXT): 0.681552\n",
      "Accuracy (ADA): 0.661061\n",
      "Accuracy (XGB): 0.677758\n"
     ]
    }
   ],
   "source": [
    "featuresStacked = scipy.sparse.hstack([featuresVectorized, featuresCountVectorized])\n",
    "skfCV = cross_validation.StratifiedKFold(labels, n_folds=10, shuffle=True, random_state=None) # split target equally\n",
    "\n",
    "clfLR = LogisticRegression(penalty='l2', dual=True, tol=0.0001, C=1, fit_intercept=True, \n",
    "                           intercept_scaling=1.0, class_weight=None, random_state=None)\n",
    "clfNB = MultinomialNB()\n",
    "clfSGD = SGDClassifier(loss='hinge', penalty='l2', alpha = 3*1e-3, n_iter=5, random_state=42)\n",
    "clfRF = RandomForestClassifier(n_estimators=250)\n",
    "clfEXT = ExtraTreesClassifier(n_estimators=300)\n",
    "clfADA = AdaBoostClassifier(n_estimators=100, learning_rate = 0.75)\n",
    "clfXGB = xgb.XGBClassifier(objective= 'logistic', nthread=3, silent = 1, seed=8,\n",
    "                           n_estimators = 400, max_depth = 6, learning_rate = 0.075, \n",
    "                           subsample = 0.9, colsample_bytree = 1.0)\n",
    "\n",
    "print(\"Accuracy ( LR): %f\" % (np.mean(utils.score_model(clfLR ,featuresStacked,labels, \n",
    "                                                        cv = skfCV, scoring = \"accuracy\"))))\n",
    "print(\"Accuracy ( NB): %f\" % ( np.mean(utils.score_model(clfNB ,featuresStacked,labels, \n",
    "                                                         cv = skfCV,scoring = \"accuracy\"))))\n",
    "print(\"Accuracy (SVM): %f\" % ( np.mean(utils.score_model(clfSGD,featuresStacked,labels, \n",
    "                                                         cv = skfCV,scoring = \"accuracy\"))))\n",
    "print(\"Accuracy ( RF): %f\" % ( np.mean(utils.score_model(clfRF ,featuresStacked,labels, \n",
    "                                                         cv = skfCV,scoring = \"accuracy\"))))\n",
    "print(\"Accuracy (EXT): %f\" % ( np.mean(utils.score_model(clfEXT,featuresStacked,labels, \n",
    "                                                         cv = skfCV,scoring = \"accuracy\"))))\n",
    "print(\"Accuracy (ADA): %f\" % ( np.mean(utils.score_model(clfADA,featuresStacked,labels, \n",
    "                                                         cv = skfCV,scoring = \"accuracy\"))))\n",
    "print(\"Accuracy (XGB): %f\" % ( np.mean(utils.score_model(clfXGB,featuresStacked,labels, \n",
    "                                                         cv = skfCV,scoring = \"accuracy\"))))"
   ]
  },
  {
   "cell_type": "markdown",
   "metadata": {},
   "source": [
    "# Part 3: Detailed model reports (precision, recall, f1-score)\n",
    "This part shows detailed report of each classifiers by virtually spliting the training sample into training and testing data. Models are reported using *precision*, *recall* and *f1-score*\n",
    "\n",
    "*Precision*:  true positives ($T_p$) over the number of true positives plus the number of false positives ($F_p$). i.e. $$P = \\frac{T_p}{T_p+F_p}$$\n",
    "\n",
    "*Recall*: the number of true positives $T_p$ over the number of true positives plus the number of false negatives $F_n$, i.e. $$R = \\frac{T_p}{T_p+F_n}$$\n",
    "\n",
    "*F1-score* is the harmonic mean of precision and recall: $$F1 = \\frac{2PR}{P+R}$$"
   ]
  },
  {
   "cell_type": "code",
   "execution_count": 13,
   "metadata": {
    "collapsed": false
   },
   "outputs": [],
   "source": [
    "featuresTrain, featuresTest, labelsTrain, labelsTest = cross_validation.train_test_split(featuresStacked, labels, \n",
    "                                                                      train_size=0.85, random_state=1234)"
   ]
  },
  {
   "cell_type": "markdown",
   "metadata": {},
   "source": [
    "### 1. Logistic regression"
   ]
  },
  {
   "cell_type": "code",
   "execution_count": 14,
   "metadata": {
    "collapsed": false
   },
   "outputs": [
    {
     "name": "stdout",
     "output_type": "stream",
     "text": [
      "             precision    recall  f1-score   support\n",
      "\n",
      "          0       0.69      0.64      0.66       354\n",
      "          1       0.48      0.27      0.35       157\n",
      "          2       0.65      0.78      0.71       478\n",
      "\n",
      "avg / total       0.64      0.65      0.64       989\n",
      "\n"
     ]
    }
   ],
   "source": [
    "clfLR = LogisticRegression(penalty='l2', dual=True, tol=0.0001, C=1, fit_intercept=True, \n",
    "                           intercept_scaling=1.0, class_weight=None, random_state=None)\n",
    "clfLR = clfLR.fit(X=featuresTrain, y=labelsTrain)\n",
    "labelsPred = clfLR.predict(featuresTest)\n",
    "print(classification_report(labelsTest, labelsPred))"
   ]
  },
  {
   "cell_type": "markdown",
   "metadata": {},
   "source": [
    "### 2. Naive Bayes"
   ]
  },
  {
   "cell_type": "code",
   "execution_count": 15,
   "metadata": {
    "collapsed": false
   },
   "outputs": [
    {
     "name": "stdout",
     "output_type": "stream",
     "text": [
      "             precision    recall  f1-score   support\n",
      "\n",
      "          0       0.62      0.70      0.66       354\n",
      "          1       0.50      0.41      0.45       157\n",
      "          2       0.69      0.67      0.68       478\n",
      "\n",
      "avg / total       0.64      0.64      0.64       989\n",
      "\n"
     ]
    }
   ],
   "source": [
    "clfNB = MultinomialNB()\n",
    "clfNB = clfNB.fit(X=featuresTrain, y=labelsTrain)\n",
    "labelsPred = clfNB.predict(featuresTest)\n",
    "print(classification_report(labelsTest, labelsPred))"
   ]
  },
  {
   "cell_type": "markdown",
   "metadata": {},
   "source": [
    "### 3. Support Vector Machine (linear kernel)"
   ]
  },
  {
   "cell_type": "code",
   "execution_count": 16,
   "metadata": {
    "collapsed": false
   },
   "outputs": [
    {
     "name": "stdout",
     "output_type": "stream",
     "text": [
      "             precision    recall  f1-score   support\n",
      "\n",
      "          0       0.74      0.54      0.62       354\n",
      "          1       0.52      0.21      0.30       157\n",
      "          2       0.62      0.87      0.73       478\n",
      "\n",
      "avg / total       0.65      0.65      0.62       989\n",
      "\n"
     ]
    }
   ],
   "source": [
    "clfSGD = SGDClassifier(loss='hinge', penalty='l2', alpha = 3*1e-3, n_iter=5, random_state=42)\n",
    "clfSGD = clfSGD.fit(X=featuresTrain, y=labelsTrain)\n",
    "labelsPred = clfSGD.predict(featuresTest)\n",
    "print(classification_report(labelsTest, labelsPred))"
   ]
  },
  {
   "cell_type": "markdown",
   "metadata": {},
   "source": [
    "### 4. Random Forest"
   ]
  },
  {
   "cell_type": "code",
   "execution_count": 17,
   "metadata": {
    "collapsed": false,
    "scrolled": true
   },
   "outputs": [
    {
     "name": "stdout",
     "output_type": "stream",
     "text": [
      "             precision    recall  f1-score   support\n",
      "\n",
      "          0       0.76      0.56      0.64       354\n",
      "          1       0.60      0.17      0.27       157\n",
      "          2       0.63      0.90      0.74       478\n",
      "\n",
      "avg / total       0.67      0.66      0.63       989\n",
      "\n"
     ]
    }
   ],
   "source": [
    "clfRF = RandomForestClassifier(n_estimators=250)\n",
    "clfRF.fit(X=featuresTrain, y=labelsTrain)\n",
    "labelsPred = clfRF.predict(featuresTest)\n",
    "print(classification_report(labelsTest, labelsPred))"
   ]
  },
  {
   "cell_type": "markdown",
   "metadata": {},
   "source": [
    "### 5. Extra tree"
   ]
  },
  {
   "cell_type": "code",
   "execution_count": 18,
   "metadata": {
    "collapsed": false
   },
   "outputs": [
    {
     "name": "stdout",
     "output_type": "stream",
     "text": [
      "             precision    recall  f1-score   support\n",
      "\n",
      "          0       0.73      0.61      0.67       354\n",
      "          1       0.59      0.21      0.31       157\n",
      "          2       0.65      0.86      0.74       478\n",
      "\n",
      "avg / total       0.67      0.67      0.64       989\n",
      "\n"
     ]
    }
   ],
   "source": [
    "clfEXT = ExtraTreesClassifier(n_estimators=300)\n",
    "clfEXT.fit(X=featuresTrain, y=labelsTrain)\n",
    "labelsPred = clfEXT.predict(featuresTest)\n",
    "print(classification_report(labelsTest, labelsPred))"
   ]
  },
  {
   "cell_type": "markdown",
   "metadata": {},
   "source": [
    "### 6. Extreme Gradient Boosting"
   ]
  },
  {
   "cell_type": "code",
   "execution_count": 19,
   "metadata": {
    "collapsed": false
   },
   "outputs": [
    {
     "name": "stdout",
     "output_type": "stream",
     "text": [
      "             precision    recall  f1-score   support\n",
      "\n",
      "          0       0.75      0.56      0.64       354\n",
      "          1       0.60      0.25      0.35       157\n",
      "          2       0.65      0.90      0.75       478\n",
      "\n",
      "avg / total       0.68      0.67      0.65       989\n",
      "\n"
     ]
    }
   ],
   "source": [
    "clfXGB = xgb.XGBClassifier(objective= 'logistic', nthread=3, silent = 1, seed=8,\n",
    "                           n_estimators = 400, max_depth = 6, learning_rate = 0.075, \n",
    "                           subsample = 0.9, colsample_bytree = 1.0)\n",
    "clfXGB.fit(X=featuresTrain, y=labelsTrain)\n",
    "labelsPred = clfXGB.predict(featuresTest)\n",
    "print(classification_report(labelsTest, labelsPred))"
   ]
  },
  {
   "cell_type": "markdown",
   "metadata": {},
   "source": [
    "## Features significance\n",
    "It is noticed that many words bring no value to help predicting sentiments. Others like adjectives do help much more. For this reason, it is beneficial to keep only significant features. They are selected from random forest classifier."
   ]
  },
  {
   "cell_type": "code",
   "execution_count": 20,
   "metadata": {
    "collapsed": false
   },
   "outputs": [
    {
     "data": {
      "text/plain": [
       "(989, 897)"
      ]
     },
     "execution_count": 20,
     "metadata": {},
     "output_type": "execute_result"
    },
    {
     "data": {
      "image/png": "[encoded data removed]",
      "text/plain": [
       "<matplotlib.figure.Figure at 0x7f0189366ad0>"
      ]
     },
     "metadata": {},
     "output_type": "display_data"
    }
   ],
   "source": [
    "clfRF = RandomForestClassifier(n_estimators=250)\n",
    "clfRF = clfRF.fit(X=featuresTrain, y=labelsTrain)\n",
    "\n",
    "plt.plot(clfRF.feature_importances_)\n",
    "\n",
    "model = SelectFromModel(clfRF, \"1.0*mean\", prefit=True)\n",
    "featuresTrainSel = model.transform(featuresTrain)\n",
    "featuresTestSel = model.transform(featuresTest)\n",
    "featuresTestSel.shape"
   ]
  },
  {
   "cell_type": "code",
   "execution_count": 21,
   "metadata": {
    "collapsed": false
   },
   "outputs": [
    {
     "name": "stdout",
     "output_type": "stream",
     "text": [
      "             precision    recall  f1-score   support\n",
      "\n",
      "          0       0.63      0.75      0.68       298\n",
      "          1       0.26      0.53      0.35        77\n",
      "          2       0.85      0.66      0.74       614\n",
      "\n",
      "avg / total       0.73      0.68      0.69       989\n",
      "\n"
     ]
    }
   ],
   "source": [
    "clfLR = LogisticRegression(penalty='l2', dual=True, tol=0.0001, C=1, fit_intercept=True, \n",
    "                           intercept_scaling=1.0, class_weight=None, random_state=None)\n",
    "clfLR = clfLR.fit(X=featuresTrainSel, y=labelsTrain)\n",
    "labelsPred = clfLR.predict(featuresTestSel)\n",
    "print(classification_report(labelsPred, labelsTest))"
   ]
  },
  {
   "cell_type": "code",
   "execution_count": 22,
   "metadata": {
    "collapsed": false
   },
   "outputs": [
    {
     "name": "stdout",
     "output_type": "stream",
     "text": [
      "             precision    recall  f1-score   support\n",
      "\n",
      "          0       0.51      0.76      0.61       237\n",
      "          1       0.20      0.58      0.30        53\n",
      "          2       0.90      0.61      0.73       699\n",
      "\n",
      "avg / total       0.77      0.65      0.68       989\n",
      "\n"
     ]
    }
   ],
   "source": [
    "clfSGD = SGDClassifier(loss='hinge', penalty='l2', alpha = 3*1e-3, n_iter=5, random_state=42)\n",
    "clfSGD = clfSGD.fit(X=featuresTrainSel, y=labelsTrain)\n",
    "labelsPred = clfSGD.predict(featuresTestSel)\n",
    "print(classification_report(labelsPred, labelsTest))"
   ]
  },
  {
   "cell_type": "markdown",
   "metadata": {
    "collapsed": true
   },
   "source": [
    "# Part 4: Ensemble all models\n",
    " As discussed by Pedro Domigos (who gives one of my favorist ML course) in his paper: http://homes.cs.washington.edu/~pedrod/papers/cacm12.pdf, it is not about which algorithm is the best, but more about who has more data. Since the data in this example is fixed, it is the question of combining many models. Also, take a closer look at the results of precision and recall for each classifier, their behaviors are rather different. It is a good sign for ensembling where different models can be combined to give better prediction.\n",
    " \n",
    "The simpliest ensemble method is averaging. Here I ensemble the prediction of 16 models presented above by simple averaging. More sophisticated approach such as stacking can be also used. \n",
    " \n",
    "By this simple ensemble of 16 models, results are improved significantly compared to single model."
   ]
  },
  {
   "cell_type": "code",
   "execution_count": 23,
   "metadata": {
    "collapsed": false
   },
   "outputs": [
    {
     "name": "stdout",
     "output_type": "stream",
     "text": [
      "Step 1: Cleaning text \n",
      "\n",
      "Step 2: Extracting features \n",
      "\n",
      "Step 3: Training classifiers \n",
      "\n",
      "For vectorized features ....\n",
      "counting features ....\n",
      "stacked features ....\n",
      "and significant features ....\n",
      "done! \n",
      "\n",
      "Final predictions and ensemble \n",
      "\n",
      "             precision    recall  f1-score   support\n",
      "\n",
      "          0       0.60      0.75      0.67       280\n",
      "          1       0.23      0.63      0.34        57\n",
      "          2       0.88      0.64      0.74       652\n",
      "\n",
      "avg / total       0.76      0.67      0.70       989\n",
      "\n"
     ]
    }
   ],
   "source": [
    "tweetsTrain, tweetsTest, labelsTrain, labelsTest = cross_validation.train_test_split(tweets, labels, \n",
    "                                                                      train_size=0.85, random_state=1234)\n",
    "import predict_sentiments as ps\n",
    "labelsPred = ps.predict_ensemblemodels(tweetsTrain, labelsTrain, tweetsTest)\n",
    "print(classification_report(labelsPred, labelsTest))"
   ]
  },
  {
   "cell_type": "markdown",
   "metadata": {},
   "source": [
    "# Part 5: Future works\n",
    "There are still many interesting things to try:\n",
    "    \n",
    "    * Deep learning using Recurrent Neural Network: I have tried a bit for this data, but results are not satisfactory. The reason is the size of training samples, which is rather limitted in this example. Also, the topic in the given tweets is varied significantly, also required the amount of training data very large.\n",
    "    \n",
    "    * Other ideas such as NBSVM or Paragraph Vector\n",
    "    \n",
    "    * More complicated ensemble methods"
   ]
  }
 ],
 "metadata": {
  "kernelspec": {
   "display_name": "Python 2",
   "language": "python",
   "name": "python2"
  },
  "language_info": {
   "codemirror_mode": {
    "name": "ipython",
    "version": 2
   },
   "file_extension": ".py",
   "mimetype": "text/x-python",
   "name": "python",
   "nbconvert_exporter": "python",
   "pygments_lexer": "ipython2",
   "version": "2.7.11"
  }
 },
 "nbformat": 4,
 "nbformat_minor": 0
}

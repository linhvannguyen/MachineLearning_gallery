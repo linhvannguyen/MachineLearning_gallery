{
 "cells": [
  {
   "cell_type": "markdown",
   "metadata": {},
   "source": [
    "# Linear Regression\n"
   ]
  },
  {
   "cell_type": "code",
   "execution_count": 1,
   "metadata": {
    "collapsed": false
   },
   "outputs": [],
   "source": [
    "%matplotlib inline\n",
    "import tensorflow as tf\n",
    "import numpy as np\n",
    "import matplotlib.pyplot as plt"
   ]
  },
  {
   "cell_type": "code",
   "execution_count": 2,
   "metadata": {
    "collapsed": false
   },
   "outputs": [
    {
     "data": {
      "text/plain": [
       "[<matplotlib.lines.Line2D at 0x7fd092147250>]"
      ]
     },
     "execution_count": 2,
     "metadata": {},
     "output_type": "execute_result"
    },
    {
     "data": {
      "image/png": "[encoded data removed]",
      "text/plain": [
       "<matplotlib.figure.Figure at 0x7fd0921b01d0>"
      ]
     },
     "metadata": {},
     "output_type": "display_data"
    }
   ],
   "source": [
    "X_tr = np.linspace(-1, 1, 101)\n",
    "\n",
    "# create a y value which is approximately linear but with some random noise\n",
    "y_tr = 2 * X_tr + np.random.randn(*X_tr.shape) * 0.33\n",
    "\n",
    "plt.plot(X_tr,y_tr)"
   ]
  },
  {
   "cell_type": "code",
   "execution_count": 3,
   "metadata": {
    "collapsed": true
   },
   "outputs": [],
   "source": [
    "# create symbolic variables\n",
    "X = tf.placeholder(\"float\") \n",
    "y = tf.placeholder(\"float\")\n",
    "\n",
    "# create a shared variable (like theano.shared) for the weight matrix\n",
    "w = tf.Variable(0.0, name=\"weights\") \n",
    "\n",
    "def model(X, w):\n",
    "    return tf.mul(X, w) # lr is just X*w so this model line is pretty simple"
   ]
  },
  {
   "cell_type": "code",
   "execution_count": 4,
   "metadata": {
    "collapsed": false
   },
   "outputs": [],
   "source": [
    "y_model = tf.mul(X, w)\n",
    "\n",
    "# use sqr error for cost function\n",
    "cost = (tf.pow(y-y_model, 2)) \n",
    "# construct an optimizer to minimize cost and fit line to my data\n",
    "train_op = tf.train.GradientDescentOptimizer(0.01).minimize(cost) "
   ]
  },
  {
   "cell_type": "code",
   "execution_count": 5,
   "metadata": {
    "collapsed": false
   },
   "outputs": [
    {
     "name": "stdout",
     "output_type": "stream",
     "text": [
      "1.97233\n"
     ]
    }
   ],
   "source": [
    "sess = tf.Session()\n",
    "init = tf.initialize_all_variables() # you need to initialize variables (in this case just variable W)\n",
    "sess.run(init)\n",
    "\n",
    "for i in range(100):\n",
    "    for (xi, yi) in zip(X_tr, y_tr): \n",
    "        sess.run(train_op, feed_dict={X: xi, y: yi})\n",
    "\n",
    "print(sess.run(w))  # something around 2"
   ]
  },
  {
   "cell_type": "code",
   "execution_count": null,
   "metadata": {
    "collapsed": true
   },
   "outputs": [],
   "source": []
  }
 ],
 "metadata": {
  "kernelspec": {
   "display_name": "Python 2",
   "language": "python",
   "name": "python2"
  },
  "language_info": {
   "codemirror_mode": {
    "name": "ipython",
    "version": 2
   },
   "file_extension": ".py",
   "mimetype": "text/x-python",
   "name": "python",
   "nbconvert_exporter": "python",
   "pygments_lexer": "ipython2",
   "version": "2.7.11"
  }
 },
 "nbformat": 4,
 "nbformat_minor": 0
}

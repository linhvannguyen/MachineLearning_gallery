{
 "cells": [
  {
   "cell_type": "markdown",
   "metadata": {},
   "source": [
    "# Online dictionary learning"
   ]
  },
  {
   "cell_type": "code",
   "execution_count": 1,
   "metadata": {
    "collapsed": false
   },
   "outputs": [
    {
     "name": "stdout",
     "output_type": "stream",
     "text": [
      "Automatically created module for IPython interactive environment\n"
     ]
    }
   ],
   "source": [
    "%matplotlib inline\n",
    "print(__doc__)\n",
    "\n",
    "import time\n",
    "\n",
    "import matplotlib.pyplot as plt\n",
    "import numpy as np\n",
    "\n",
    "\n",
    "from sklearn import datasets\n",
    "from sklearn.cluster import MiniBatchKMeans\n",
    "from sklearn.decomposition import MiniBatchDictionaryLearning\n",
    "from sklearn.feature_extraction.image import extract_patches_2d\n",
    "\n",
    "faces = datasets.fetch_olivetti_faces()"
   ]
  },
  {
   "cell_type": "markdown",
   "metadata": {},
   "source": [
    "### Plot sample facial image"
   ]
  },
  {
   "cell_type": "code",
   "execution_count": null,
   "metadata": {
    "collapsed": false
   },
   "outputs": [
    {
     "name": "stdout",
     "output_type": "stream",
     "text": [
      "Data dimensions (400, 64, 64)\n"
     ]
    },
    {
     "data": {
      "text/plain": [
       "<matplotlib.image.AxesImage at 0x7f657e400150>"
      ]
     },
     "execution_count": 2,
     "metadata": {},
     "output_type": "execute_result"
    },
    {
     "data": {
      "image/png": "[encoded data removed]",
      "text/plain": [
       "<matplotlib.figure.Figure at 0x7f657e442110>"
      ]
     },
     "metadata": {},
     "output_type": "display_data"
    }
   ],
   "source": [
    "print \"Data dimensions\", np.shape(faces.images)\n",
    "img = faces.images[0]\n",
    "plt.imshow(img, cmap=plt.cm.gray, interpolation='nearest')"
   ]
  },
  {
   "cell_type": "code",
   "execution_count": null,
   "metadata": {
    "collapsed": false
   },
   "outputs": [
    {
     "name": "stdout",
     "output_type": "stream",
     "text": [
      "Learning the dictionary... \n",
      "Partial fit of  100 out of 2400\n",
      "Partial fit of  200 out of 2400\n",
      "Partial fit of  300 out of 2400\n",
      "Partial fit of  400 out of 2400\n",
      "Partial fit of  500 out of 2400\n",
      "Partial fit of  600 out of 2400\n",
      "Partial fit of  700 out of 2400\n",
      "Partial fit of  800 out of 2400\n",
      "Partial fit of  900 out of 2400\n",
      "Partial fit of 1000 out of 2400\n",
      "Partial fit of 1100 out of 2400\n",
      "Partial fit of 1200 out of 2400\n",
      "Partial fit of 1300 out of 2400\n",
      "Partial fit of 1400 out of 2400"
     ]
    }
   ],
   "source": [
    "###############################################################################\n",
    "# Learn the dictionary of images\n",
    "\n",
    "print('Learning the dictionary... ')\n",
    "rng = np.random.RandomState(0)\n",
    "dl = MiniBatchDictionaryLearning(n_components=100, alpha=1, n_iter=50)\n",
    "patch_size = (20, 20)\n",
    "\n",
    "buffer = []\n",
    "index = 1\n",
    "t0 = time.time()\n",
    "\n",
    "# The online learning part: cycle over the whole dataset 6 times\n",
    "index = 0\n",
    "for _ in range(6):\n",
    "    for img in faces.images:\n",
    "        data = extract_patches_2d(img, patch_size, max_patches=10, random_state=rng)\n",
    "        data = np.reshape(data, (len(data), -1))\n",
    "        buffer.append(data)\n",
    "        index += 1\n",
    "        if index % 100 == 0:\n",
    "            data = np.concatenate(buffer, axis=0)\n",
    "            data -= np.mean(data, axis=0)\n",
    "            data /= np.std(data, axis=0)\n",
    "            dl.partial_fit(data)\n",
    "            buffer = []\n",
    "            print('Partial fit of %4i out of %i' % (index, 6 * len(faces.images)))\n",
    "\n",
    "dt = time.time() - t0\n",
    "print('done in %.2fs.' % dt)"
   ]
  },
  {
   "cell_type": "code",
   "execution_count": null,
   "metadata": {
    "collapsed": false
   },
   "outputs": [],
   "source": [
    "###############################################################################\n",
    "# Plot the results\n",
    "plt.figure(figsize=(8, 7))\n",
    "for i, patch in enumerate(kmeans.cluster_centers_):\n",
    "    plt.subplot(9, 9, i + 1)\n",
    "    plt.imshow(patch.reshape(patch_size), cmap=plt.cm.gray, interpolation='nearest')\n",
    "    plt.xticks(())\n",
    "    plt.yticks(())\n",
    "\n",
    "plt.suptitle('Patches of faces\\nTrain time %.1fs on %d patches' %\n",
    "             (dt, 8 * len(faces.images)), fontsize=16)\n",
    "plt.subplots_adjust(0.08, 0.02, 0.92, 0.85, 0.08, 0.23)\n",
    "\n",
    "plt.show()"
   ]
  },
  {
   "cell_type": "code",
   "execution_count": null,
   "metadata": {
    "collapsed": true
   },
   "outputs": [],
   "source": []
  }
 ],
 "metadata": {
  "kernelspec": {
   "display_name": "Python 2",
   "language": "python",
   "name": "python2"
  },
  "language_info": {
   "codemirror_mode": {
    "name": "ipython",
    "version": 2
   },
   "file_extension": ".py",
   "mimetype": "text/x-python",
   "name": "python",
   "nbconvert_exporter": "python",
   "pygments_lexer": "ipython2",
   "version": "2.7.11"
  }
 },
 "nbformat": 4,
 "nbformat_minor": 0
}
